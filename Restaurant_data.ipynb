{
 "cells": [
  {
   "cell_type": "code",
   "execution_count": null,
   "metadata": {},
   "outputs": [],
   "source": []
  },
  {
   "cell_type": "code",
   "execution_count": 1,
   "metadata": {},
   "outputs": [],
   "source": [
    "################\n",
    "#### PYTHON ####\n",
    "################\n",
    "\n",
    "restaurant_data = [{\n",
    "    \"id\": 1,\n",
    "    \"name\": \"Mission Chinese Food\",\n",
    "    \"neighborhood\": \"Manhattan\",\n",
    "    \"photograph\": \"1.jpg\",\n",
    "    \"address\": \"171 E Broadway, New York, NY 10002\",\n",
    "    \"latlng\": {\n",
    "      \"lat\": 40.713829,\n",
    "      \"lng\": -73.989667\n",
    "    },\n",
    "    \"cuisine_type\": \"Asian\",\n",
    "    \"operating_hours\": {\n",
    "      \"Monday\": \"5:30 pm - 11:00 pm\",\n",
    "      \"Tuesday\": \"5:30 pm - 12:00 am\",\n",
    "      \"Wednesday\": \"5:30 pm - 12:00 am\",\n",
    "      \"Thursday\": \"5:30 pm - 12:00 am\",\n",
    "      \"Friday\": \"5:30 pm - 12:00 am\",\n",
    "      \"Saturday\": \"12:00 pm - 4:00 pm, 5:30 pm - 12:00 am\",\n",
    "      \"Sunday\": \"12:00 pm - 4:00 pm, 5:30 pm - 11:00 pm\"\n",
    "    },\n",
    "    \"reviews\": [{\n",
    "        \"name\": \"Steve\",\n",
    "        \"date\": \"October 26, 2016\",\n",
    "        \"rating\": 4,\n",
    "        \"comments\": \"Mission Chinese Food has grown up from its scrappy Orchard Street days into a big, two story restaurant equipped with a pizza oven, a prime rib cart, and a much broader menu. Yes, it still has all the hits — the kung pao pastrami, the thrice cooked bacon —but chef/proprietor Danny Bowien and executive chef Angela Dimayuga have also added a raw bar, two generous family-style set menus, and showstoppers like duck baked in clay. And you can still get a lot of food without breaking the bank.\"\n",
    "      },\n",
    "      {\n",
    "        \"name\": \"Morgan\",\n",
    "        \"date\": \"October 26, 2016\",\n",
    "        \"rating\": 4,\n",
    "        \"comments\": \"This place is a blast. Must orders: GREEN TEA NOODS, sounds gross (to me at least) but these were incredible!, Kung pao pastrami (but you already knew that), beef tartare was a fun appetizer that we decided to try, the spicy ma po tofu SUPER spicy but delicous, egg rolls and scallion pancake i could have passed on... I wish we would have gone with a larger group, so much more I would have liked to try!\"\n",
    "      },\n",
    "      {\n",
    "        \"name\": \"Jason\",\n",
    "        \"date\": \"October 26, 2016\",\n",
    "        \"rating\": 3,\n",
    "        \"comments\": \"I was VERY excited to come here after seeing and hearing so many good things about this place. Having read much, I knew going into it that it was not going to be authentic Chinese. The place was edgy, had a punk rock throwback attitude, and generally delivered the desired atmosphere. Things went downhill from there though. The food was okay at best and the best qualities were easily overshadowed by what I believe to be poor decisions by the kitchen staff.\"\n",
    "      }\n",
    "    ]\n",
    "  }, {\n",
    "    \"id\": 2,\n",
    "    \"name\": \"Emily\",\n",
    "    \"neighborhood\": \"Brooklyn\",\n",
    "    \"photograph\": \"2.jpg\",\n",
    "    \"address\": \"919 Fulton St, Brooklyn, NY 11238\",\n",
    "    \"latlng\": {\n",
    "      \"lat\": 40.683555,\n",
    "      \"lng\": -73.966393\n",
    "    },\n",
    "    \"cuisine_type\": \"Pizza\",\n",
    "    \"operating_hours\": {\n",
    "      \"Monday\": \"5:30 pm - 11:00 pm\",\n",
    "      \"Tuesday\": \"5:30 pm - 11:00 pm\",\n",
    "      \"Wednesday\": \"5:30 pm - 11:00 pm\",\n",
    "      \"Thursday\": \"5:30 pm - 11:00 pm\",\n",
    "      \"Friday\": \"5:30 pm - 11:00 pm\",\n",
    "      \"Saturday\": \"5:00 pm - 11:30 pm\",\n",
    "      \"Sunday\": \"12:00 pm - 3:00 pm, 5:00 pm - 11:00 pm\"\n",
    "    },\n",
    "    \"reviews\": [{\n",
    "        \"name\": \"Steph\",\n",
    "        \"date\": \"October 26, 2016\",\n",
    "        \"rating\": 4,\n",
    "        \"comments\": \"Five star food, two star atmosphere. I would definitely get takeout from this place - but dont think I have the energy to deal with the hipster ridiculousness again. By the time we left the wait was two hours long.\"\n",
    "      },\n",
    "      {\n",
    "        \"name\": \"Steve\",\n",
    "        \"date\": \"October 26, 2016\",\n",
    "        \"rating\": 4,\n",
    "        \"comments\": \"This cozy Clinton Hill restaurant excels at both straightforward and unusual wood-fired pizzas. If you want a taste of the latter, consider ordering the Emily, which is topped with mozzarella, pistachios, truffled sottocenere cheese, and honey. The menu includes salads and a handful of starters, as well as a burger that some meat connoisseurs consider to be among the best in the city.\"\n",
    "      },\n",
    "      {\n",
    "        \"name\": \"Sam\",\n",
    "        \"date\": \"October 26, 2016\",\n",
    "        \"rating\": 5,\n",
    "        \"comments\": \"5 star atmosphere as it is very cozy with great staff. 5 star food as their Emmy burger is outrageously good. and its on a pretzel bun.. Too juicy for its own good and downright addicting. Also try the Colony pizza. Many others looked like worth competitors, but the Colony really found its way to my heart. when you start with a great crust, top it with top notch cheese and sauce, you've got a winner. But, if you go a step further and add the salty from the pepperoni, the sweet from the honey, and the spicy from the chili oil.... your mouth is confused and happy at the same time.\"\n",
    "      }\n",
    "    ]\n",
    "  }, {\n",
    "    \"id\": 3,\n",
    "    \"name\": \"Kang Ho Dong Baekjeong\",\n",
    "    \"neighborhood\": \"Manhattan\",\n",
    "    \"photograph\": \"3.jpg\",\n",
    "    \"address\": \"1 E 32nd St, New York, NY 10016\",\n",
    "    \"latlng\": {\n",
    "      \"lat\": 40.747143,\n",
    "      \"lng\": -73.985414\n",
    "    },\n",
    "    \"cuisine_type\": \"Asian\",\n",
    "    \"operating_hours\": {\n",
    "      \"Monday\": \"11:30 am - 2:00 am\",\n",
    "      \"Tuesday\": \"11:30 am - 2:00 am\",\n",
    "      \"Wednesday\": \"11:30 am - 2:00 am\",\n",
    "      \"Thursday\": \"11:30 am - 2:00 am\",\n",
    "      \"Friday\": \"11:30 am - 6:00 am\",\n",
    "      \"Saturday\": \"11:30 am - 6:00 am\",\n",
    "      \"Sunday\": \"11:30 am - 2:00 am\"\n",
    "    },\n",
    "    \"reviews\": [{\n",
    "        \"name\": \"Steve\",\n",
    "        \"date\": \"October 26, 2016\",\n",
    "        \"rating\": 4,\n",
    "        \"comments\": \"The tables at this 32nd Street favorite are outfitted with grills for cooking short ribs, brisket, beef tongue, rib eye, and pork jowl. The banchan plates are uniformly good, and Deuki Hong’s menu also includes winning dishes like stir-fried squid noodles, kimchi stew, and seafood pancakes. If it’s available, make sure to order the kimchi and rice “lunchbox.” Baekjeong is a great place for large groups and birthday parties.\"\n",
    "      },\n",
    "      {\n",
    "        \"name\": \"ZS\",\n",
    "        \"date\": \"October 26, 2016\",\n",
    "        \"rating\": 5,\n",
    "        \"comments\": \"I've been to Korea before and many other Korean BBQ places. We had the regular pork belly and a beef (forgot which cut) and a seafood tofu soup. Two meat and a soup was just prefect for the two of us. We could have done one meat and one soup. The portions of the meat are great! The beef was juicy, tender and so good. The sides were excellent. \"\n",
    "      },\n",
    "      {\n",
    "        \"name\": \"Emily\",\n",
    "        \"date\": \"October 26, 2016\",\n",
    "        \"rating\": 2,\n",
    "        \"comments\": \"MEH. I've tried their Jersey location as well but Kang Ho Dong meat quality is severely decreasing. A Korean bbq place with whatever meat? I think NOT!\"\n",
    "      }\n",
    "    ]\n",
    "  }]\n"
   ]
  },
  {
   "cell_type": "code",
   "execution_count": 2,
   "metadata": {},
   "outputs": [
    {
     "data": {
      "text/plain": [
       "'\\n[BEGINNER-LEVEL] \\n\\n#####################\\n#### DataStruct. ####\\n#####################\\n  \\n1. Create a new list from this restaurant-data-set that have just location of all the restaurants.\\n    e.g. [\"171 E Broadway, New York, NY 10002\", \"919 Fulton St, Brooklyn, NY 11238\", \"1 E 32nd St, New York, NY 10016\", ... ]\\n\\n2. Create a new list of average rating for all the restaurants. Show output as below.\\n    e.g. [{\"id\": 1, \"average_rating\": 3.66}, {\"id\": 2, \"average_rating\": 4.33}, {\"id\": 3, \"average_rating\": 3.66}, ... ]\\n\\n3. Complete the following function to show output as below.\\n    e.g. [{ \\'id\\': 1,\\n            \\'address\\': \\'171 E Broadway, New York, NY 10002\\',\\n            \\'name\\': \\'Mission Chinese Food\\'},\\n          { \\'id\\': 3,\\n            \\'address\\': \\'1 E 32nd St, New York, NY 10016\\',\\n            \\'name\\': \\'Kang Ho Dong Baekjeong\\'},\\n          { \\'id\\': 9,\\n            \\'address\\': \\'1209 Jackson Ave, Queens, NY 11101\\', \\n            \\'name\\': \\'Mu Ramen\\'}]\\n\\n    def search_for_restaurant_address(data, cuisine_type=None):\\n          results = []\\n          .\\n          .\\n          .\\n          .\\n          .\\n          return results\\n\\n    search_for_restaurant_address(restaurant_data, \\'Asian\\')\\n'"
      ]
     },
     "execution_count": 2,
     "metadata": {},
     "output_type": "execute_result"
    }
   ],
   "source": [
    "\n",
    "# NOTE: You have to use the restaurant_data given above. So, Run the code-cell before you write code for questions below.\n",
    "\n",
    "'''\n",
    "[BEGINNER-LEVEL] \n",
    "\n",
    "#####################\n",
    "#### DataStruct. ####\n",
    "#####################\n",
    "  \n",
    "1. Create a new list from this restaurant-data-set that have just location of all the restaurants.\n",
    "    e.g. [\"171 E Broadway, New York, NY 10002\", \"919 Fulton St, Brooklyn, NY 11238\", \"1 E 32nd St, New York, NY 10016\", ... ]\n",
    "\n",
    "2. Create a new list of average rating for all the restaurants. Show output as below.\n",
    "    e.g. [{\"id\": 1, \"average_rating\": 3.66}, {\"id\": 2, \"average_rating\": 4.33}, {\"id\": 3, \"average_rating\": 3.66}, ... ]\n",
    "\n",
    "3. Complete the following function to show output as below.\n",
    "    e.g. [{ 'id': 1,\n",
    "            'address': '171 E Broadway, New York, NY 10002',\n",
    "            'name': 'Mission Chinese Food'},\n",
    "          { 'id': 3,\n",
    "            'address': '1 E 32nd St, New York, NY 10016',\n",
    "            'name': 'Kang Ho Dong Baekjeong'},\n",
    "          { 'id': 9,\n",
    "            'address': '1209 Jackson Ave, Queens, NY 11101', \n",
    "            'name': 'Mu Ramen'}]\n",
    "\n",
    "    def search_for_restaurant_address(data, cuisine_type=None):\n",
    "          results = []\n",
    "          .\n",
    "          .\n",
    "          .\n",
    "          .\n",
    "          .\n",
    "          return results\n",
    "\n",
    "    search_for_restaurant_address(restaurant_data, 'Asian')\n",
    "'''\n"
   ]
  },
  {
   "cell_type": "code",
   "execution_count": 3,
   "metadata": {},
   "outputs": [
    {
     "name": "stdout",
     "output_type": "stream",
     "text": [
      "['171 E Broadway, New York, NY 10002', '919 Fulton St, Brooklyn, NY 11238', '1 E 32nd St, New York, NY 10016']\n"
     ]
    }
   ],
   "source": [
    "\n",
    "##################\n",
    "# 1. \n",
    "##################\n",
    "loc_list = [dicts[\"address\"] for dicts in restaurant_data]\n",
    "print(loc_list)\n",
    "\n"
   ]
  },
  {
   "cell_type": "code",
   "execution_count": 4,
   "metadata": {},
   "outputs": [
    {
     "name": "stdout",
     "output_type": "stream",
     "text": [
      "[{'id': 1, 'average_rating': 3.67}, {'id': 2, 'average_rating': 4.33}, {'id': 3, 'average_rating': 3.67}]\n"
     ]
    }
   ],
   "source": [
    "\n",
    "\n",
    "##################\n",
    "# 2. \n",
    "##################\n",
    "import statistics\n",
    "ids = [id[\"id\"] for id in restaurant_data]\n",
    "# ids\n",
    "dicts_id = [id[\"reviews\"] for id in restaurant_data]\n",
    "# dicts_id\n",
    "mean_rat = []\n",
    "\n",
    "for revs_id in dicts_id:\n",
    "  rat_list = []\n",
    "  for j in revs_id:\n",
    "    rat_list.append(j[\"rating\"])\n",
    "  mean = round(sum(rat_list)/len(rat_list),2)\n",
    "  mean_rat.append(mean)\n",
    "\n",
    "avg_rat = [{\"id\":id, \"average_rating\": mean} for id,mean in zip(ids,mean_rat)]\n",
    "print(avg_rat)\n",
    "\n",
    "\n"
   ]
  },
  {
   "cell_type": "code",
   "execution_count": 5,
   "metadata": {},
   "outputs": [
    {
     "data": {
      "text/plain": [
       "[{'id': 1,\n",
       "  'address': '171 E Broadway, New York, NY 10002',\n",
       "  'name': 'Mission Chinese Food'},\n",
       " {'id': 3,\n",
       "  'address': '1 E 32nd St, New York, NY 10016',\n",
       "  'name': 'Kang Ho Dong Baekjeong'}]"
      ]
     },
     "execution_count": 5,
     "metadata": {},
     "output_type": "execute_result"
    }
   ],
   "source": [
    "\n",
    "\n",
    "##################\n",
    "# 3. \n",
    "##################\n",
    "\n",
    "def search_for_restaurant_address(data, cuisine_type=None):\n",
    "  results = [{\"id\": dicts[\"id\"], \"address\": dicts[\"address\"], \"name\": dicts[\"name\"]} for dicts in restaurant_data if dicts[\"cuisine_type\"] == cuisine_type]\n",
    "\n",
    "  return results\n",
    "\n",
    "search_for_restaurant_address(restaurant_data, 'Asian')"
   ]
  },
  {
   "cell_type": "code",
   "execution_count": null,
   "metadata": {},
   "outputs": [],
   "source": []
  }
 ],
 "metadata": {
  "kernelspec": {
   "display_name": "Python 3",
   "language": "python",
   "name": "python3"
  },
  "language_info": {
   "codemirror_mode": {
    "name": "ipython",
    "version": 3
   },
   "file_extension": ".py",
   "mimetype": "text/x-python",
   "name": "python",
   "nbconvert_exporter": "python",
   "pygments_lexer": "ipython3",
   "version": "3.8.3"
  }
 },
 "nbformat": 4,
 "nbformat_minor": 4
}
